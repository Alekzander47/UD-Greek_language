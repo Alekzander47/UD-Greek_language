{
 "cells": [
  {
   "cell_type": "code",
   "execution_count": 1,
   "metadata": {},
   "outputs": [],
   "source": [
    "import stanza\n",
    "from stanza.utils.conll import CoNLL\n",
    "\n"
   ]
  },
  {
   "cell_type": "code",
   "execution_count": 2,
   "metadata": {},
   "outputs": [
    {
     "data": {
      "application/vnd.jupyter.widget-view+json": {
       "model_id": "f2f9a003523743af8c3e1085ebe6643f",
       "version_major": 2,
       "version_minor": 0
      },
      "text/plain": [
       "Downloading https://raw.githubusercontent.com/stanfordnlp/stanza-resources/main/resources_1.5.0.json:   0%|   …"
      ]
     },
     "metadata": {},
     "output_type": "display_data"
    },
    {
     "name": "stderr",
     "output_type": "stream",
     "text": [
      "2023-09-05 22:04:38 INFO: Downloading default packages for language: el (Greek) ...\n",
      "2023-09-05 22:04:38 INFO: File exists: C:\\Users\\ajays\\stanza_resources\\el\\default.zip\n",
      "2023-09-05 22:04:39 INFO: Finished downloading models and saved to C:\\Users\\ajays\\stanza_resources.\n"
     ]
    }
   ],
   "source": [
    "stanza.download('el')"
   ]
  },
  {
   "cell_type": "code",
   "execution_count": 3,
   "metadata": {},
   "outputs": [
    {
     "name": "stderr",
     "output_type": "stream",
     "text": [
      "2023-09-05 22:04:44 INFO: Checking for updates to resources.json in case models have been updated.  Note: this behavior can be turned off with download_method=None or download_method=DownloadMethod.REUSE_RESOURCES\n"
     ]
    },
    {
     "data": {
      "application/vnd.jupyter.widget-view+json": {
       "model_id": "d055421d9b424ebc84151ec5cc7b01bb",
       "version_major": 2,
       "version_minor": 0
      },
      "text/plain": [
       "Downloading https://raw.githubusercontent.com/stanfordnlp/stanza-resources/main/resources_1.5.0.json:   0%|   …"
      ]
     },
     "metadata": {},
     "output_type": "display_data"
    },
    {
     "name": "stderr",
     "output_type": "stream",
     "text": [
      "2023-09-05 22:04:45 INFO: Loading these models for language: el (Greek):\n",
      "=======================\n",
      "| Processor | Package |\n",
      "-----------------------\n",
      "| tokenize  | gdt     |\n",
      "| pos       | gdt     |\n",
      "=======================\n",
      "\n",
      "2023-09-05 22:04:45 INFO: Using device: cpu\n",
      "2023-09-05 22:04:45 INFO: Loading: tokenize\n",
      "2023-09-05 22:04:45 INFO: Loading: pos\n",
      "2023-09-05 22:04:45 INFO: Done loading processors!\n"
     ]
    }
   ],
   "source": [
    "nlp = stanza.Pipeline('el', processors='tokenize,pos', tokenize_pretokenized=True)\n",
    "train_file = './dataset/Greek_train.conllu'\n",
    "dev_file = './dataset/Greek_dev.conllu'\n",
    "test_file = './dataset/Greek_test.conllu'\n"
   ]
  },
  {
   "cell_type": "code",
   "execution_count": 4,
   "metadata": {},
   "outputs": [],
   "source": [
    "with open(train_file, 'r', encoding='utf-8') as f:\n",
    "    train_data = f.read()\n",
    "train_doc = nlp(train_data)\n",
    "\n",
    "with open(dev_file, 'r', encoding='utf-8') as f:\n",
    "    dev_data = f.read()\n",
    "dev_doc = nlp(dev_data)\n",
    "\n",
    "with open(test_file, 'r', encoding='utf-8') as f:\n",
    "    test_data = f.read()\n",
    "test_doc = nlp(test_data)"
   ]
  },
  {
   "cell_type": "code",
   "execution_count": null,
   "metadata": {},
   "outputs": [],
   "source": [
    "import joblib\n",
    "joblib.dump(nlp, './model/el_model.pkl')"
   ]
  },
  {
   "cell_type": "code",
   "execution_count": 6,
   "metadata": {},
   "outputs": [
    {
     "name": "stderr",
     "output_type": "stream",
     "text": [
      "2023-09-05 22:06:17 INFO: Checking for updates to resources.json in case models have been updated.  Note: this behavior can be turned off with download_method=None or download_method=DownloadMethod.REUSE_RESOURCES\n"
     ]
    },
    {
     "data": {
      "application/vnd.jupyter.widget-view+json": {
       "model_id": "f42024558b1d4cb5bddccfc8de28923b",
       "version_major": 2,
       "version_minor": 0
      },
      "text/plain": [
       "Downloading https://raw.githubusercontent.com/stanfordnlp/stanza-resources/main/resources_1.5.0.json:   0%|   …"
      ]
     },
     "metadata": {},
     "output_type": "display_data"
    },
    {
     "name": "stderr",
     "output_type": "stream",
     "text": [
      "2023-09-05 22:06:18 WARNING: Language el package default expects mwt, which has been added\n",
      "2023-09-05 22:06:18 INFO: Loading these models for language: el (Greek):\n",
      "=======================\n",
      "| Processor | Package |\n",
      "-----------------------\n",
      "| tokenize  | gdt     |\n",
      "| mwt       | gdt     |\n",
      "| pos       | gdt     |\n",
      "=======================\n",
      "\n",
      "2023-09-05 22:06:18 INFO: Using device: cpu\n",
      "2023-09-05 22:06:18 INFO: Loading: tokenize\n",
      "2023-09-05 22:06:18 INFO: Loading: mwt\n",
      "2023-09-05 22:06:18 INFO: Loading: pos\n",
      "2023-09-05 22:06:18 INFO: Done loading processors!\n"
     ]
    },
    {
     "name": "stdout",
     "output_type": "stream",
     "text": [
      "[\n",
      "  [\n",
      "    {\n",
      "      \"id\": 1,\n",
      "      \"text\": \"Αυτή\",\n",
      "      \"upos\": \"PRON\",\n",
      "      \"xpos\": \"PRON\",\n",
      "      \"feats\": \"Case=Nom|Gender=Fem|Number=Sing|Person=3|PronType=Dem\",\n",
      "      \"start_char\": 0,\n",
      "      \"end_char\": 4\n",
      "    },\n",
      "    {\n",
      "      \"id\": 2,\n",
      "      \"text\": \"είναι\",\n",
      "      \"upos\": \"AUX\",\n",
      "      \"xpos\": \"AUX\",\n",
      "      \"feats\": \"Aspect=Imp|Mood=Ind|Number=Sing|Person=3|Tense=Pres|VerbForm=Fin|Voice=Pass\",\n",
      "      \"start_char\": 5,\n",
      "      \"end_char\": 10\n",
      "    },\n",
      "    {\n",
      "      \"id\": 3,\n",
      "      \"text\": \"μια\",\n",
      "      \"upos\": \"DET\",\n",
      "      \"xpos\": \"DET\",\n",
      "      \"feats\": \"Case=Nom|Definite=Ind|Gender=Fem|Number=Sing|PronType=Art\",\n",
      "      \"start_char\": 11,\n",
      "      \"end_char\": 14\n",
      "    },\n",
      "    {\n",
      "      \"id\": 4,\n",
      "      \"text\": \"δοκιμαστική\",\n",
      "      \"upos\": \"ADJ\",\n",
      "      \"xpos\": \"ADJ\",\n",
      "      \"feats\": \"Case=Nom|Gender=Fem|Number=Sing\",\n",
      "      \"start_char\": 15,\n",
      "      \"end_char\": 26\n",
      "    },\n",
      "    {\n",
      "      \"id\": 5,\n",
      "      \"text\": \"πρόταση\",\n",
      "      \"upos\": \"NOUN\",\n",
      "      \"xpos\": \"NOUN\",\n",
      "      \"feats\": \"Case=Nom|Gender=Fem|Number=Sing\",\n",
      "      \"start_char\": 27,\n",
      "      \"end_char\": 34\n",
      "    },\n",
      "    {\n",
      "      \"id\": 6,\n",
      "      \"text\": \".\",\n",
      "      \"upos\": \"PUNCT\",\n",
      "      \"xpos\": \"PUNCT\",\n",
      "      \"start_char\": 34,\n",
      "      \"end_char\": 35\n",
      "    }\n",
      "  ]\n",
      "]\n"
     ]
    }
   ],
   "source": [
    "nlp = stanza.Pipeline(lang='el', processors='tokenize,pos', models_dir='./model/el_model.pkl')\n",
    "sample_text = \"Αυτή είναι μια δοκιμαστική πρόταση.\"\n",
    "doc = nlp(sample_text)\n",
    "print(doc)\n"
   ]
  },
  {
   "cell_type": "code",
   "execution_count": null,
   "metadata": {},
   "outputs": [],
   "source": []
  }
 ],
 "metadata": {
  "kernelspec": {
   "display_name": "Python 3",
   "language": "python",
   "name": "python3"
  },
  "language_info": {
   "codemirror_mode": {
    "name": "ipython",
    "version": 3
   },
   "file_extension": ".py",
   "mimetype": "text/x-python",
   "name": "python",
   "nbconvert_exporter": "python",
   "pygments_lexer": "ipython3",
   "version": "3.11.4"
  },
  "orig_nbformat": 4
 },
 "nbformat": 4,
 "nbformat_minor": 2
}
